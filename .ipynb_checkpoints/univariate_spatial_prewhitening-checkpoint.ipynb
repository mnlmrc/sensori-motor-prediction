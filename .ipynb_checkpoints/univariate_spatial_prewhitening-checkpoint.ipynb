{
 "cells": [
  {
   "cell_type": "markdown",
   "id": "196aa90e-3438-4c0c-bcb9-103d5d38e6d0",
   "metadata": {},
   "source": [
    "This Jupyter Noteboox shows how perform spatial univariate pre-whitening of GLM coefficients using the mean residual sums of squares (ResMS) output by SPM after GLM estimation. "
   ]
  },
  {
   "cell_type": "code",
   "execution_count": 1,
   "id": "31083f27-bce4-414c-9e68-1b9949b5ee50",
   "metadata": {},
   "outputs": [],
   "source": [
    "# relevant imports\n",
    "import numpy as np\n",
    "import rsatoolbox as rsa\n",
    "from scipy.linalg import sqrtm\n",
    "\n",
    "np.random.seed(7)\n"
   ]
  },
  {
   "cell_type": "code",
   "execution_count": 2,
   "id": "adb866fd-2247-4b44-8c27-d7c3117e18c9",
   "metadata": {},
   "outputs": [],
   "source": [
    "# create a dataset object\n",
    "betas = np.random.random(size=(5, 1000))"
   ]
  },
  {
   "cell_type": "markdown",
   "id": "2cc847dd-4d21-43ff-b508-81e51979a5de",
   "metadata": {},
   "source": [
    "Univariate pre-whitening involves normalizing the activity estimated in each voxel by the standard deviation of its residuals."
   ]
  },
  {
   "cell_type": "code",
   "execution_count": 3,
   "id": "17b2b486-2ae5-4808-bad2-66dbb03c1408",
   "metadata": {},
   "outputs": [],
   "source": [
    "# load residual mean square\n",
    "Cov = np.random.random(size=(1000, 1000))  # mock covariance matrix\n",
    "Cov = np.dot(Cov, Cov.T)  # Ensures the matrix is positive definite\n",
    "betas_prewhitened = np.matmul(betas, np.linalg.inv(sqrtm(Cov)))"
   ]
  },
  {
   "cell_type": "code",
   "execution_count": 4,
   "id": "58de80be-e767-4338-980d-6d4ac1df957b",
   "metadata": {},
   "outputs": [],
   "source": [
    "# create a dataset object\n",
    "nCond = betas_prewhitened.shape[0]\n",
    "nVox = betas_prewhitened.shape[1]\n",
    "# now create a dataset object\n",
    "des = {'session': 1, 'subj': 1}\n",
    "obs_des = {'conds': np.array(['cond_%02d' % x for x in np.arange(nCond)])}\n",
    "chn_des = {'voxels': np.array(['voxel_' + str(x) for x in np.arange(nVox)])}\n",
    "dataset = rsa.data.Dataset(measurements=betas_prewhitened,\n",
    "                   descriptors=des,\n",
    "                   obs_descriptors=obs_des,\n",
    "                   channel_descriptors=chn_des)"
   ]
  },
  {
   "cell_type": "code",
   "execution_count": 5,
   "id": "040cbcc2-9e61-46e8-9d51-8cbe997c7e1f",
   "metadata": {},
   "outputs": [
    {
     "name": "stdout",
     "output_type": "stream",
     "text": [
      "[[[ 0.          9.09181397 19.25113887 14.12976913 35.84108899]\n",
      "  [ 9.09181397  0.         53.97043434 45.09245367 79.36931982]\n",
      "  [19.25113887 53.97043434  0.          0.7875332   2.96247337]\n",
      "  [14.12976913 45.09245367  0.7875332   0.          5.53300999]\n",
      "  [35.84108899 79.36931982  2.96247337  5.53300999  0.        ]]]\n"
     ]
    }
   ],
   "source": [
    "# calculate euclidean distance between conditions\n",
    "dist = rsa.rdm.calc_rdm(dataset, method='euclidean', descriptor='conds')\n",
    "print(dist.get_matrices())"
   ]
  },
  {
   "cell_type": "code",
   "execution_count": 6,
   "id": "8f5246ac-d0f8-4c91-862d-1963d4ebffc8",
   "metadata": {},
   "outputs": [
    {
     "name": "stdout",
     "output_type": "stream",
     "text": [
      "[[[0.         0.0992261  0.0870623  0.0927352  0.13574762]\n",
      "  [0.0992261  0.         0.18236825 0.16702426 0.20303656]\n",
      "  [0.0870623  0.18236825 0.         0.07503273 0.08408906]\n",
      "  [0.0927352  0.16702426 0.07503273 0.         0.0893804 ]\n",
      "  [0.13574762 0.20303656 0.08408906 0.0893804  0.        ]]]\n"
     ]
    }
   ],
   "source": [
    "# diagonalize ResMS\n",
    "dataset = rsa.data.Dataset(measurements=betas,\n",
    "                   descriptors=des,\n",
    "                   obs_descriptors=obs_des,\n",
    "                   channel_descriptors=chn_des)\n",
    "dist = rsa.rdm.calc_rdm(dataset, method='mahalanobis', descriptor='conds', noise=Cov)\n",
    "print(dist.get_matrices())"
   ]
  },
  {
   "cell_type": "code",
   "execution_count": null,
   "id": "21db3699-7129-4d50-8911-0270b24d772d",
   "metadata": {},
   "outputs": [],
   "source": []
  }
 ],
 "metadata": {
  "kernelspec": {
   "display_name": "Python 3 (ipykernel)",
   "language": "python",
   "name": "python3"
  },
  "language_info": {
   "codemirror_mode": {
    "name": "ipython",
    "version": 3
   },
   "file_extension": ".py",
   "mimetype": "text/x-python",
   "name": "python",
   "nbconvert_exporter": "python",
   "pygments_lexer": "ipython3",
   "version": "3.10.11"
  }
 },
 "nbformat": 4,
 "nbformat_minor": 5
}
